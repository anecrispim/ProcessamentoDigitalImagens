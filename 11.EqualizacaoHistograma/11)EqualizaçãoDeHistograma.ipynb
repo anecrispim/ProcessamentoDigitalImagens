{
  "nbformat": 4,
  "nbformat_minor": 0,
  "metadata": {
    "colab": {
      "provenance": []
    },
    "kernelspec": {
      "name": "python3",
      "display_name": "Python 3"
    },
    "language_info": {
      "name": "python"
    }
  },
  "cells": [
    {
      "cell_type": "markdown",
      "source": [
        "Atividade: Gerar a equalização por histograma das imagens:\n",
        "\n",
        "a) Fig0316(1)(top_left).tif\n",
        "\n",
        "b) Fig0316(2)(2nd_from_top).tif\n",
        "\n",
        "c) Fig0316(3)(third_from_top).tif\n",
        "\n",
        "d) Fig0316(4)(bottom_left)"
      ],
      "metadata": {
        "id": "3olmDiGo8bTQ"
      }
    },
    {
      "cell_type": "code",
      "source": [
        "import numpy as np\n",
        "from PIL import Image\n",
        "import matplotlib.pyplot as plt\n",
        "\n",
        "def equalizar_histograma(imagem_array):\n",
        "\n",
        "    histograma, _ = np.histogram(imagem_array.flatten(), bins=256, range=(0, 255))\n",
        "\n",
        "    cdf = np.cumsum(histograma)\n",
        "    cdf_normalizado = cdf / cdf[-1]\n",
        "\n",
        "    imagem_equalizada = np.interp(imagem_array.flatten(), range(256), cdf_normalizado * 255)\n",
        "    return imagem_equalizada.reshape(imagem_array.shape).astype(np.uint8)\n",
        "\n",
        "def gerar_histograma(imagem_array):\n",
        "    histograma, _ = np.histogram(imagem_array, bins=256, range=(0, 255))\n",
        "    return histograma\n",
        "\n",
        "def salvar_grafico(histograma, titulo, nome_arquivo):\n",
        "    plt.figure(figsize=(10, 6))\n",
        "    plt.bar(range(256), histograma, color='gray', alpha=0.7)\n",
        "    plt.title(titulo)\n",
        "    plt.xlabel(\"Intensidade\")\n",
        "    plt.ylabel(\"Frequência\")\n",
        "    plt.savefig(nome_arquivo)\n",
        "    plt.close()\n",
        "\n",
        "def processar_imagem(caminho_imagem, nome_saida):\n",
        "    imagem = Image.open(caminho_imagem).convert(\"L\")\n",
        "    imagem_array = np.array(imagem)\n",
        "\n",
        "    histograma_original = gerar_histograma(imagem_array)\n",
        "    salvar_grafico(histograma_original, \"Histograma Original\", f\"{nome_saida}_original.png\")\n",
        "\n",
        "    imagem_equalizada = equalizar_histograma(imagem_array)\n",
        "\n",
        "    histograma_equalizado = gerar_histograma(imagem_equalizada)\n",
        "    salvar_grafico(histograma_equalizado, \"Histograma Equalizado\", f\"{nome_saida}_equalizado.png\")\n",
        "\n",
        "    Image.fromarray(imagem_equalizada).save(f\"{nome_saida}_equalizado.tif\")\n",
        "\n",
        "imagens = [\n",
        "    \"Fig0316(1)(top_left).tif\",\n",
        "    \"Fig0316(2)(2nd_from_top).tif\",\n",
        "    \"Fig0316(3)(third_from_top).tif\",\n",
        "    \"Fig0316(4)(bottom_left).tif\"\n",
        "]\n",
        "\n",
        "for i, imagem in enumerate(imagens, 1):\n",
        "    processar_imagem(imagem, f\"resultado_imagem_{i}\")\n"
      ],
      "metadata": {
        "id": "gW3hBswR8hE_"
      },
      "execution_count": null,
      "outputs": []
    }
  ]
}