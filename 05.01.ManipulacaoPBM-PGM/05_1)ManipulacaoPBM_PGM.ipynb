{
  "nbformat": 4,
  "nbformat_minor": 0,
  "metadata": {
    "colab": {
      "provenance": []
    },
    "kernelspec": {
      "name": "python3",
      "display_name": "Python 3"
    },
    "language_info": {
      "name": "python"
    }
  },
  "cells": [
    {
      "cell_type": "markdown",
      "source": [
        "Sobre o arquivo de Imagem “Entrada.pgm” (8 bits em escala de cinza, 0-255), gerar arquivo de saída binário, tipo PBM –P1(ASCII), ou seja com duas tonalidades (preto ou branco);\n",
        "a) Ajustar valor do limiar em 128, se valorpixel <= limiar := 0 e valor > limiar := 1;\n",
        "b) Definir limiar (fator de ajuste, lembrando que , se valorpixel <= limiar := 0 e valor > limiar := 1;\n",
        "c) Aplicar negativo (sobre a Imagem gerada no ítem “a”. Manter formato P2;"
      ],
      "metadata": {
        "id": "inJQolfKXaa7"
      }
    },
    {
      "cell_type": "code",
      "source": [
        "import numpy as np\n",
        "from PIL import Image\n",
        "\n",
        "# Carregar a imagem\n",
        "imagem = Image.open(\"Entrada_EscalaCinza.pgm\").convert(\"L\")\n",
        "imagem_array = np.array(imagem)\n",
        "\n",
        "# Função para gerar a imagem binária no formato PBM (P1)\n",
        "def gerar_pbm(imagem_array, limiar=128):\n",
        "    # Converter para preto e branco usando o limiar\n",
        "    imagem_binaria = (imagem_array > limiar).astype(int)\n",
        "\n",
        "    # Salvar o arquivo em formato PBM (P1, ASCII)\n",
        "    with open(\"Saida_binaria.pbm\", \"w\") as f:\n",
        "        f.write(\"P1\\n\")  # Formato P1 (ASCII)\n",
        "        f.write(f\"{imagem_binaria.shape[1]} {imagem_binaria.shape[0]}\\n\")  # Largura e altura\n",
        "        for linha in imagem_binaria:\n",
        "            f.write(\" \".join(map(str, linha)) + \"\\n\")  # Converte cada linha para texto e escreve no arquivo\n",
        "\n",
        "# Função para aplicar o negativo da imagem\n",
        "def aplicar_negativo(imagem_binaria):\n",
        "    # Inverter os valores binários\n",
        "    imagem_negativo = 1 - imagem_binaria\n",
        "\n",
        "    # Salvar o negativo em formato PGM (P2)\n",
        "    with open(\"Saida_negativo.pgm\", \"w\") as f:\n",
        "        f.write(\"P2\\n\")  # Formato P2 (grayscale)\n",
        "        f.write(f\"{imagem_binaria.shape[1]} {imagem_binaria.shape[0]}\\n\")  # Largura e altura\n",
        "        f.write(\"1\\n\")  # Valor máximo para imagem binária é 1\n",
        "        for linha in imagem_negativo:\n",
        "            f.write(\" \".join(map(str, linha)) + \"\\n\")  # Escreve cada linha no arquivo\n",
        "\n",
        "# Chamada das funções\n",
        "gerar_pbm(imagem_array)  # Gera a imagem binária com limiar 128\n",
        "imagem_binaria = (imagem_array > 128).astype(int)  # Obtém imagem binária para o negativo\n",
        "aplicar_negativo(imagem_binaria)  # Gera o negativo da imagem\n"
      ],
      "metadata": {
        "id": "uU7pHedsXeyF"
      },
      "execution_count": 1,
      "outputs": []
    }
  ]
}