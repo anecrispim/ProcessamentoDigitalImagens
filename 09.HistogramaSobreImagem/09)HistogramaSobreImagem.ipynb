{
  "nbformat": 4,
  "nbformat_minor": 0,
  "metadata": {
    "colab": {
      "provenance": []
    },
    "kernelspec": {
      "name": "python3",
      "display_name": "Python 3"
    },
    "language_info": {
      "name": "python"
    }
  },
  "cells": [
    {
      "cell_type": "markdown",
      "source": [
        "a) gerar histograma(grafico) sobre a imagem escala de cinza\n",
        "\n",
        "Obs.: dica, criar arquivo .csv e então gerar o gráfico sobre estes dados.\n",
        "\n",
        "b) gerar histograma(grafico) sobre a imagem (RGB - cada canal de cor separado)\n",
        "Obs.: dica, criar arquivo .csv e então gerar o gráfico sobre estes dados."
      ],
      "metadata": {
        "id": "m_FrNwj3RxpF"
      }
    },
    {
      "cell_type": "code",
      "source": [
        "import numpy as np\n",
        "import pandas as pd\n",
        "from PIL import Image\n",
        "import matplotlib.pyplot as plt\n",
        "\n",
        "def salvar_csv(histograma, nome_arquivo, coluna_nome):\n",
        "    df = pd.DataFrame({coluna_nome: histograma})\n",
        "    df.index.name = \"Intensidade\"\n",
        "    df.to_csv(nome_arquivo)\n",
        "\n",
        "def gerar_grafico(histograma, titulo, cor, nome_arquivo):\n",
        "    plt.figure(figsize=(10, 6))\n",
        "    plt.bar(range(256), histograma, color=cor, alpha=0.7)\n",
        "    plt.title(titulo)\n",
        "    plt.xlabel(\"Intensidade\")\n",
        "    plt.ylabel(\"Frequência\")\n",
        "    plt.savefig(nome_arquivo)\n",
        "    plt.close()\n",
        "\n",
        "def gerar_histograma_escala_cinza(caminho_imagem):\n",
        "    imagem = Image.open(caminho_imagem).convert(\"L\")\n",
        "    imagem_array = np.array(imagem)\n",
        "\n",
        "    histograma, _ = np.histogram(imagem_array, bins=256, range=(0, 255))\n",
        "\n",
        "    salvar_csv(histograma, \"histograma_cinza.csv\", \"Frequência\")\n",
        "    gerar_grafico(histograma, \"Histograma - Escala de Cinza\", \"gray\", \"histograma_cinza.png\")\n",
        "\n",
        "def gerar_histograma_rgb(caminho_imagem):\n",
        "    imagem = Image.open(caminho_imagem)\n",
        "    imagem_array = np.array(imagem)\n",
        "\n",
        "    hist_r, _ = np.histogram(imagem_array[:, :, 0], bins=256, range=(0, 255))\n",
        "    hist_g, _ = np.histogram(imagem_array[:, :, 1], bins=256, range=(0, 255))\n",
        "    hist_b, _ = np.histogram(imagem_array[:, :, 2], bins=256, range=(0, 255))\n",
        "\n",
        "    df = pd.DataFrame({\"R\": hist_r, \"G\": hist_g, \"B\": hist_b})\n",
        "    df.index.name = \"Intensidade\"\n",
        "    df.to_csv(\"histograma_rgb.csv\")\n",
        "\n",
        "    gerar_grafico(hist_r, \"Histograma - Canal R\", \"red\", \"histograma_r.png\")\n",
        "    gerar_grafico(hist_g, \"Histograma - Canal G\", \"green\", \"histograma_g.png\")\n",
        "    gerar_grafico(hist_b, \"Histograma - Canal B\", \"blue\", \"histograma_b.png\")\n",
        "\n",
        "gerar_histograma_escala_cinza(\"EntradaEscalaCinza.pgm\")\n",
        "gerar_histograma_rgb(\"EntradaRGB.ppm\")\n"
      ],
      "metadata": {
        "id": "40HhXiSVR3ds"
      },
      "execution_count": 1,
      "outputs": []
    }
  ]
}