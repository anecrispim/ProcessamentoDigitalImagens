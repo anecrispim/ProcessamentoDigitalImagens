{
  "nbformat": 4,
  "nbformat_minor": 0,
  "metadata": {
    "colab": {
      "provenance": []
    },
    "kernelspec": {
      "name": "python3",
      "display_name": "Python 3"
    },
    "language_info": {
      "name": "python"
    }
  },
  "cells": [
    {
      "cell_type": "markdown",
      "source": [
        "Aplicar ganho de 20% de claridade (ganhobrilho = valorpixel *1,2) a imagem gerada na “Atividade 4”."
      ],
      "metadata": {
        "id": "KIYKuvb6JPd5"
      }
    },
    {
      "cell_type": "code",
      "source": [
        "import numpy as np\n",
        "from PIL import Image\n",
        "\n",
        "# Abrir a imagem em escala de cinza\n",
        "imagem = Image.open(\"Entrada_EscalaCinza.pgm\").convert(\"L\")  # Converte para escala de cinza se necessário\n",
        "imagem_array = np.array(imagem)\n",
        "\n",
        "# Aplicar ganho de brilho de 20%\n",
        "ganho_brilho = 1.2\n",
        "imagem_brilho_array = np.clip(imagem_array * ganho_brilho, 0, 255).astype(np.uint8)\n",
        "\n",
        "# Salvar a nova imagem com ganho de brilho\n",
        "imagem_brilho = Image.fromarray(imagem_brilho_array)\n",
        "imagem_brilho.save(\"Saida_brilho_20.pgm\")\n"
      ],
      "metadata": {
        "id": "hZPSdcK4JUfj"
      },
      "execution_count": null,
      "outputs": []
    }
  ]
}