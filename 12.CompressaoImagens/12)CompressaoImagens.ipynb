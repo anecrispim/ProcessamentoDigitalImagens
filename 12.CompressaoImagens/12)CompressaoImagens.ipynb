{
  "nbformat": 4,
  "nbformat_minor": 0,
  "metadata": {
    "colab": {
      "provenance": []
    },
    "kernelspec": {
      "name": "python3",
      "display_name": "Python 3"
    },
    "language_info": {
      "name": "python"
    }
  },
  "cells": [
    {
      "cell_type": "markdown",
      "source": [
        "Programa com codificaçao RLE"
      ],
      "metadata": {
        "id": "nRV6BI4d5Z5z"
      }
    },
    {
      "cell_type": "code",
      "source": [
        "import numpy as np\n",
        "from PIL import Image\n",
        "\n",
        "# Função para compressão RLE\n",
        "def compressao_rle(imagem_ppm):\n",
        "    altura, largura, _ = imagem_ppm.shape\n",
        "    resultado = [largura, altura]\n",
        "\n",
        "    for canal in range(3):\n",
        "        for linha in range(altura):\n",
        "            pixels = imagem_ppm[linha, :, canal]\n",
        "            i = 0\n",
        "            while i < len(pixels):\n",
        "                inicio = i\n",
        "                while i + 1 < len(pixels) and pixels[i] == pixels[i + 1]:\n",
        "                    i += 1\n",
        "                comprimento = i - inicio + 1\n",
        "\n",
        "                if comprimento > 1:\n",
        "                    while comprimento > 127:\n",
        "                        resultado.append(127)\n",
        "                        resultado.append(pixels[inicio])\n",
        "                        comprimento -= 127\n",
        "                    resultado.append(comprimento)\n",
        "                    resultado.append(pixels[inicio])\n",
        "                else:\n",
        "                    inicio_diferentes = i\n",
        "                    while i + 1 < len(pixels) and pixels[i] != pixels[i + 1]:\n",
        "                        i += 1\n",
        "                    i += 1\n",
        "                    comprimento = i - inicio_diferentes\n",
        "                    resultado.append(-comprimento)\n",
        "                    resultado.extend(pixels[inicio_diferentes:i])\n",
        "            i += 1\n",
        "\n",
        "    return resultado\n",
        "\n",
        "# Função para descompressão RLE\n",
        "def descompressao_rle(dados):\n",
        "    largura = dados.pop(0)\n",
        "    altura = dados.pop(0)\n",
        "    imagem = np.zeros((altura, largura, 3), dtype=np.uint8)\n",
        "\n",
        "    for canal in range(3):\n",
        "        for linha in range(altura):\n",
        "            linha_pixels = []\n",
        "            while len(linha_pixels) < largura:\n",
        "                contador = dados.pop(0)\n",
        "                if contador > 0:\n",
        "                    valor = dados.pop(0)\n",
        "                    linha_pixels.extend([valor] * contador)\n",
        "                elif contador < 0:\n",
        "                    comprimento = -contador\n",
        "                    linha_pixels.extend(dados[:comprimento])\n",
        "                    dados = dados[comprimento:]\n",
        "            imagem[linha, :, canal] = linha_pixels[:largura]\n",
        "\n",
        "    return imagem\n",
        "\n",
        "# Teste com imagem PPM\n",
        "imagem = Image.open(\"EntradaRGB.ppm\")\n",
        "imagem_array = np.array(imagem)\n",
        "\n",
        "dados_comprimidos = compressao_rle(imagem_array)\n",
        "with open(\"imagem_comprimida.rle\", \"w\") as f:\n",
        "    f.write(\" \".join(map(str, dados_comprimidos)))\n",
        "\n",
        "with open(\"imagem_comprimida.rle\", \"r\") as f:\n",
        "    dados_comprimidos = list(map(int, f.read().split()))\n",
        "imagem_descomprimida = descompressao_rle(dados_comprimidos)\n",
        "\n",
        "imagem_recuperada = Image.fromarray(imagem_descomprimida)\n",
        "imagem_recuperada.save(\"imagem_descomprimida.ppm\")\n"
      ],
      "metadata": {
        "id": "mHOjkeCx5czB"
      },
      "execution_count": null,
      "outputs": []
    }
  ]
}