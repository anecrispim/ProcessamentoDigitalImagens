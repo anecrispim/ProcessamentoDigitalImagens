{
  "nbformat": 4,
  "nbformat_minor": 0,
  "metadata": {
    "colab": {
      "provenance": []
    },
    "kernelspec": {
      "name": "python3",
      "display_name": "Python 3"
    },
    "language_info": {
      "name": "python"
    }
  },
  "cells": [
    {
      "cell_type": "markdown",
      "source": [
        "Implementar imagem com valores aleatórios de tamanho 100x100\n",
        "PBM - Tipo P1\n",
        "PGM - Tipo P2 com 16 níveis intensidade cinza (4bits)"
      ],
      "metadata": {
        "id": "-mH_EI_clvd5"
      }
    },
    {
      "cell_type": "code",
      "execution_count": 1,
      "metadata": {
        "colab": {
          "base_uri": "https://localhost:8080/"
        },
        "id": "4_O1lDz6lilO",
        "outputId": "661d506b-3127-496e-cd51-b35ae820023b"
      },
      "outputs": [
        {
          "output_type": "stream",
          "name": "stdout",
          "text": [
            "Imagens PBM e PGM geradas com sucesso.\n"
          ]
        }
      ],
      "source": [
        "import numpy as np\n",
        "\n",
        "# Dimensões da imagem\n",
        "width, height = 100, 100\n",
        "\n",
        "# Função para gerar PBM (P1)\n",
        "def generate_pbm(width, height):\n",
        "    pbm_data = np.random.randint(2, size=(height, width))  # 0 ou 1\n",
        "    pbm_header = f'P1\\n{width} {height}\\n'\n",
        "\n",
        "    # Convertendo os dados para string\n",
        "    pbm_body = '\\n'.join(' '.join(map(str, row)) for row in pbm_data)\n",
        "\n",
        "    return pbm_header + pbm_body\n",
        "\n",
        "# Função para gerar PGM (P2)\n",
        "def generate_pgm(width, height):\n",
        "    pgm_data = np.random.randint(16, size=(height, width))  # Valores entre 0 e 15\n",
        "    pgm_header = f'P2\\n{width} {height}\\n15\\n'  # 15 é o máximo nível de cinza (4 bits)\n",
        "\n",
        "    # Convertendo os dados para string\n",
        "    pgm_body = '\\n'.join(' '.join(map(str, row)) for row in pgm_data)\n",
        "\n",
        "    return pgm_header + pgm_body\n",
        "\n",
        "# Gerar imagens\n",
        "pbm_image = generate_pbm(width, height)\n",
        "pgm_image = generate_pgm(width, height)\n",
        "\n",
        "# Salvar PBM\n",
        "with open('random_image.pbm', 'w') as pbm_file:\n",
        "    pbm_file.write(pbm_image)\n",
        "\n",
        "# Salvar PGM\n",
        "with open('random_image.pgm', 'w') as pgm_file:\n",
        "    pgm_file.write(pgm_image)\n",
        "\n",
        "print(\"Imagens PBM e PGM geradas com sucesso.\")"
      ]
    },
    {
      "cell_type": "markdown",
      "source": [
        "a) Gerar imagem de tamanho 100x100 pixels do tipo\n",
        "\n",
        "PPM (colorido rgb) – tipo P3(ASCII), com valores aleatórios, com 16 intesidades."
      ],
      "metadata": {
        "id": "_jzwlsncnKrG"
      }
    },
    {
      "cell_type": "code",
      "source": [
        "import numpy as np\n",
        "\n",
        "# Dimensões da imagem\n",
        "width, height = 100, 100\n",
        "\n",
        "# Função para gerar PPM (P3)\n",
        "def generate_ppm(width, height):\n",
        "    ppm_data = np.random.randint(16, size=(height, width, 3))  # Valores entre 0 e 15 para RGB\n",
        "    ppm_header = f'P3\\n{width} {height}\\n15\\n'  # 15 é o valor máximo para os níveis de cor (4 bits)\n",
        "\n",
        "    # Convertendo os dados para string\n",
        "    ppm_body = '\\n'.join(' '.join(f'{r} {g} {b}' for r, g, b in row) for row in ppm_data)\n",
        "\n",
        "    return ppm_header + ppm_body\n",
        "\n",
        "# Gerar imagem PPM\n",
        "ppm_image = generate_ppm(width, height)\n",
        "\n",
        "# Salvar PPM\n",
        "ppm_path = 'random_image.ppm'\n",
        "with open(ppm_path, 'w') as ppm_file:\n",
        "    ppm_file.write(ppm_image)\n",
        "\n",
        "ppm_path"
      ],
      "metadata": {
        "colab": {
          "base_uri": "https://localhost:8080/",
          "height": 35
        },
        "id": "WnXt6U1KnMq2",
        "outputId": "b55e0e55-2f45-4b90-dbad-5404d779b71e"
      },
      "execution_count": 2,
      "outputs": [
        {
          "output_type": "execute_result",
          "data": {
            "text/plain": [
              "'random_image.ppm'"
            ],
            "application/vnd.google.colaboratory.intrinsic+json": {
              "type": "string"
            }
          },
          "metadata": {},
          "execution_count": 2
        }
      ]
    },
    {
      "cell_type": "markdown",
      "source": [
        "b) Gerar imagem de tamanho 1000x1000 pixels do tipo\n",
        "\n",
        "PPM (colorido rgb) – tipo P3(ASCII), com valores aleatórios, com 256 intensidades."
      ],
      "metadata": {
        "id": "-AzTbG7Qo2xP"
      }
    },
    {
      "cell_type": "code",
      "source": [
        "import numpy as np\n",
        "\n",
        "# Dimensões da imagem 1000x1000 pixels\n",
        "width, height = 1000, 1000\n",
        "\n",
        "# Função para gerar PPM (P3) com 256 intensidades para RGB\n",
        "def generate_large_ppm(width, height):\n",
        "    ppm_data = np.random.randint(256, size=(height, width, 3))  # Valores entre 0 e 255 para RGB\n",
        "    ppm_header = f'P3\\n{width} {height}\\n255\\n'  # 255 é o valor máximo para os níveis de cor (8 bits)\n",
        "\n",
        "    # Convertendo os dados para string\n",
        "    ppm_body = '\\n'.join(' '.join(f'{r} {g} {b}' for r, g, b in row) for row in ppm_data)\n",
        "\n",
        "    return ppm_header + ppm_body\n",
        "\n",
        "# Gerar imagem PPM de 1000x1000 pixels\n",
        "large_ppm_image = generate_large_ppm(width, height)\n",
        "\n",
        "# Salvar PPM\n",
        "ppm_path = 'large_random_image.ppm'\n",
        "with open(ppm_path, 'w') as ppm_file:\n",
        "    ppm_file.write(large_ppm_image)\n",
        "\n",
        "print(f\"Imagem PPM gerada e salva como {ppm_path}\")\n"
      ],
      "metadata": {
        "colab": {
          "base_uri": "https://localhost:8080/"
        },
        "id": "Bc60mK2No8a6",
        "outputId": "8b8fb15d-3308-4181-c2ff-aceb13b8641e"
      },
      "execution_count": 3,
      "outputs": [
        {
          "output_type": "stream",
          "name": "stdout",
          "text": [
            "Imagem PPM gerada e salva como large_random_image.ppm\n"
          ]
        }
      ]
    }
  ]
}