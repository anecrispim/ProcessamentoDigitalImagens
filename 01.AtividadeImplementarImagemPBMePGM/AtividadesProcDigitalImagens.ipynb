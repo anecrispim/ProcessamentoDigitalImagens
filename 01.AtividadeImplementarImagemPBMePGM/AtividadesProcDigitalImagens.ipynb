{
  "nbformat": 4,
  "nbformat_minor": 0,
  "metadata": {
    "colab": {
      "provenance": []
    },
    "kernelspec": {
      "name": "python3",
      "display_name": "Python 3"
    },
    "language_info": {
      "name": "python"
    }
  },
  "cells": [
    {
      "cell_type": "markdown",
      "source": [
        "Implementar imagem com valores aleatórios de tamanho 100x100\n",
        "PBM - Tipo P1\n",
        "PGM - Tipo P2 com 16 níveis intensidade cinza (4bits)"
      ],
      "metadata": {
        "id": "-mH_EI_clvd5"
      }
    },
    {
      "cell_type": "code",
      "execution_count": 1,
      "metadata": {
        "colab": {
          "base_uri": "https://localhost:8080/"
        },
        "id": "4_O1lDz6lilO",
        "outputId": "661d506b-3127-496e-cd51-b35ae820023b"
      },
      "outputs": [
        {
          "output_type": "stream",
          "name": "stdout",
          "text": [
            "Imagens PBM e PGM geradas com sucesso.\n"
          ]
        }
      ],
      "source": [
        "import numpy as np\n",
        "\n",
        "# Dimensões da imagem\n",
        "width, height = 100, 100\n",
        "\n",
        "# Função para gerar PBM (P1)\n",
        "def generate_pbm(width, height):\n",
        "    pbm_data = np.random.randint(2, size=(height, width))  # 0 ou 1\n",
        "    pbm_header = f'P1\\n{width} {height}\\n'\n",
        "\n",
        "    # Convertendo os dados para string\n",
        "    pbm_body = '\\n'.join(' '.join(map(str, row)) for row in pbm_data)\n",
        "\n",
        "    return pbm_header + pbm_body\n",
        "\n",
        "# Função para gerar PGM (P2)\n",
        "def generate_pgm(width, height):\n",
        "    pgm_data = np.random.randint(16, size=(height, width))  # Valores entre 0 e 15\n",
        "    pgm_header = f'P2\\n{width} {height}\\n15\\n'  # 15 é o máximo nível de cinza (4 bits)\n",
        "\n",
        "    # Convertendo os dados para string\n",
        "    pgm_body = '\\n'.join(' '.join(map(str, row)) for row in pgm_data)\n",
        "\n",
        "    return pgm_header + pgm_body\n",
        "\n",
        "# Gerar imagens\n",
        "pbm_image = generate_pbm(width, height)\n",
        "pgm_image = generate_pgm(width, height)\n",
        "\n",
        "# Salvar PBM\n",
        "with open('random_image.pbm', 'w') as pbm_file:\n",
        "    pbm_file.write(pbm_image)\n",
        "\n",
        "# Salvar PGM\n",
        "with open('random_image.pgm', 'w') as pgm_file:\n",
        "    pgm_file.write(pgm_image)\n",
        "\n",
        "print(\"Imagens PBM e PGM geradas com sucesso.\")"
      ]
    }
  ]
}