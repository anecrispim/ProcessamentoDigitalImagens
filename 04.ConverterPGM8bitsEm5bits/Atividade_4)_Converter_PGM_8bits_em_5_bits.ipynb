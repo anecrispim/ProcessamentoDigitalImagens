{
  "nbformat": 4,
  "nbformat_minor": 0,
  "metadata": {
    "colab": {
      "provenance": []
    },
    "kernelspec": {
      "name": "python3",
      "display_name": "Python 3"
    },
    "language_info": {
      "name": "python"
    }
  },
  "cells": [
    {
      "cell_type": "markdown",
      "source": [
        "Converter de Imagem “Entrada.pgm” (8 bits escala de cinza, 0-255) em 5 bits de intensidade.\n",
        "Obs. Lembre que 8 bits quer dizer que os valores variam de 0 a 255, e 5 bits os valores variam de 0 a 31, ou seja precisa ser desenvolvido um fator de conversão."
      ],
      "metadata": {
        "id": "TH45t9mJmUr_"
      }
    },
    {
      "cell_type": "code",
      "source": [
        "import numpy as np\n",
        "from PIL import Image\n",
        "\n",
        "# Abrindo a imagem em escala de cinza\n",
        "imagem = Image.open(\"Entrada_EscalaCinza.pgm\")\n",
        "imagem_array = np.array(imagem)\n",
        "\n",
        "fator_conversao = 31 / 255\n",
        "\n",
        "# Aplicando o fator de conversão e arredondar os valores\n",
        "imagem_5bits_array = np.round(imagem_array * fator_conversao).astype(np.uint8)\n",
        "\n",
        "# Salvando a nova imagem em escala de 5 bits\n",
        "imagem_5bits = Image.fromarray(imagem_5bits_array)\n",
        "imagem_5bits.save(\"Saida_5bits.pgm\")\n"
      ],
      "metadata": {
        "id": "zVA0LBhUmdvJ"
      },
      "execution_count": 1,
      "outputs": []
    }
  ]
}