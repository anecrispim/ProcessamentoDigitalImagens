{
  "nbformat": 4,
  "nbformat_minor": 0,
  "metadata": {
    "colab": {
      "provenance": []
    },
    "kernelspec": {
      "name": "python3",
      "display_name": "Python 3"
    },
    "language_info": {
      "name": "python"
    }
  },
  "cells": [
    {
      "cell_type": "markdown",
      "source": [
        "a) Utilizar a funcão de transferência no material sobre histograma para gerar as imagens e gráfico sobre a imagem (PGM)\n",
        "    \n",
        "    Gerar o histograma da imagem gerada\n",
        "\n",
        "b) Utilizar a funcão de transferência no material sobre histograma para gerar as imagens e gráfico sobre a imagem(PPM - RGB)\n",
        "    \n",
        "    Gerar o histograma da imagem gerada"
      ],
      "metadata": {
        "id": "qACPtJ9ZUOGL"
      }
    },
    {
      "cell_type": "code",
      "source": [
        "import numpy as np\n",
        "import pandas as pd\n",
        "from PIL import Image\n",
        "import matplotlib.pyplot as plt\n",
        "\n",
        "def aplicar_funcao_transferencia(imagem_array):\n",
        "    histograma, _ = np.histogram(imagem_array, bins=256, range=(0, 255))\n",
        "    cdf = np.cumsum(histograma) / np.sum(histograma)\n",
        "    imagem_transformada = (cdf[imagem_array] * 255).astype(np.uint8)\n",
        "    return imagem_transformada\n",
        "\n",
        "def gerar_histograma(imagem_array):\n",
        "    histograma, _ = np.histogram(imagem_array, bins=256, range=(0, 255))\n",
        "    return histograma\n",
        "\n",
        "def salvar_grafico(histograma, titulo, cor, nome_arquivo):\n",
        "    plt.figure(figsize=(10, 6))\n",
        "    plt.bar(range(256), histograma, color=cor, alpha=0.7)\n",
        "    plt.title(titulo)\n",
        "    plt.xlabel(\"Intensidade\")\n",
        "    plt.ylabel(\"Frequência\")\n",
        "    plt.savefig(nome_arquivo)\n",
        "    plt.close()\n",
        "\n",
        "def processar_imagem_pgm(caminho_imagem):\n",
        "    imagem = Image.open(caminho_imagem).convert(\"L\")\n",
        "    imagem_array = np.array(imagem)\n",
        "\n",
        "    imagem_transformada = aplicar_funcao_transferencia(imagem_array)\n",
        "    histograma_transformado = gerar_histograma(imagem_transformada)\n",
        "\n",
        "    Image.fromarray(imagem_transformada).save(\"imagem_transferida_cinza.pgm\")\n",
        "    salvar_grafico(histograma_transformado, \"Histograma - Imagem Transferida (Cinza)\", \"gray\", \"histograma_transferido_cinza.png\")\n",
        "\n",
        "def processar_imagem_ppm(caminho_imagem):\n",
        "    imagem = Image.open(caminho_imagem)\n",
        "    imagem_array = np.array(imagem)\n",
        "\n",
        "    r_transformado = aplicar_funcao_transferencia(imagem_array[:, :, 0])\n",
        "    g_transformado = aplicar_funcao_transferencia(imagem_array[:, :, 1])\n",
        "    b_transformado = aplicar_funcao_transferencia(imagem_array[:, :, 2])\n",
        "\n",
        "    imagem_transformada = np.stack((r_transformado, g_transformado, b_transformado), axis=-1)\n",
        "\n",
        "    hist_r = gerar_histograma(r_transformado)\n",
        "    hist_g = gerar_histograma(g_transformado)\n",
        "    hist_b = gerar_histograma(b_transformado)\n",
        "\n",
        "    Image.fromarray(imagem_transformada).save(\"imagem_transferida_rgb.ppm\")\n",
        "    salvar_grafico(hist_r, \"Histograma - Imagem Transferida (R)\", \"red\", \"histograma_transferido_r.png\")\n",
        "    salvar_grafico(hist_g, \"Histograma - Imagem Transferida (G)\", \"green\", \"histograma_transferido_g.png\")\n",
        "    salvar_grafico(hist_b, \"Histograma - Imagem Transferida (B)\", \"blue\", \"histograma_transferido_b.png\")\n",
        "\n",
        "processar_imagem_pgm(\"EntradaEscalaCinza.pgm\")\n",
        "processar_imagem_ppm(\"EntradaRGB.ppm\")\n"
      ],
      "metadata": {
        "id": "MVUTbr4lUVYk"
      },
      "execution_count": 1,
      "outputs": []
    }
  ]
}