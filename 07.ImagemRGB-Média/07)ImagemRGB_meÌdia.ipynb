{
  "nbformat": 4,
  "nbformat_minor": 0,
  "metadata": {
    "colab": {
      "provenance": []
    },
    "kernelspec": {
      "name": "python3",
      "display_name": "Python 3"
    },
    "language_info": {
      "name": "python"
    }
  },
  "cells": [
    {
      "cell_type": "markdown",
      "source": [
        "Nesta atividade será introduzido conceitos das imagens coloridas no formato RGB (Red, Green, Blue).\n",
        "\n",
        "a) Aplicar cálculo da média entre os valores RGB dos arquivos \"Fig4.ppm\" tipo P3 e gerar imagem saída escala de cinza (P2) para cada pixel da imagem.\n",
        "\n",
        "b) Aplicar cálculo da média entre os valores RGB dos arquivos \"Fig4.ppm\"  tipo P3 e gerar imagem saída com a média dos valores RGB em cada pixel da imagem. Saída tipo P3."
      ],
      "metadata": {
        "id": "BFc3iOCZ0OQ9"
      }
    },
    {
      "cell_type": "code",
      "source": [
        "import numpy as np\n",
        "from PIL import Image\n",
        "\n",
        "imagem = Image.open(\"Fig4.ppm\")\n",
        "imagem_array = np.array(imagem)\n",
        "\n",
        "# Função responsável por calcular a média RGB e gerar uma imagem em escala de cinza (P2)\n",
        "def gerar_escala_cinza(imagem_array):\n",
        "    imagem_cinza_array = np.mean(imagem_array, axis=2).astype(np.uint8)\n",
        "\n",
        "    with open(\"Saida_escala_cinza.pgm\", \"w\") as f:\n",
        "        f.write(\"P2\\n\")\n",
        "        f.write(f\"{imagem_cinza_array.shape[1]} {imagem_cinza_array.shape[0]}\\n\")  # Largura e altura\n",
        "        f.write(\"255\\n\")  # Valor máximo para a escala de cinza\n",
        "        for linha in imagem_cinza_array:\n",
        "            f.write(\" \".join(map(str, linha)) + \"\\n\")  # Escreve cada linha no arquivo\n",
        "\n",
        "# Função para calcular a média RGB e gerar uma imagem P3 com valores médios\n",
        "def gerar_media_rgb(imagem_array):\n",
        "    # Calcular a média dos valores RGB para cada pixel e replicar em R, G, B\n",
        "    media_rgb_array = np.mean(imagem_array, axis=2, keepdims=True).astype(np.uint8)\n",
        "    imagem_media_rgb_array = np.repeat(media_rgb_array, 3, axis=2)  # Expande para 3 canais (R, G, B)\n",
        "\n",
        "    # Salvar a imagem P3 com média RGB\n",
        "    with open(\"Saida_media_rgb.ppm\", \"w\") as f:\n",
        "        f.write(\"P3\\n\")  # Formato P3 (colorido)\n",
        "        f.write(f\"{imagem_media_rgb_array.shape[1]} {imagem_media_rgb_array.shape[0]}\\n\")  # Largura e altura\n",
        "        f.write(\"255\\n\")  # Valor máximo para o canal RGB\n",
        "        for linha in imagem_media_rgb_array:\n",
        "            for pixel in linha:\n",
        "                f.write(\" \".join(map(str, pixel)) + \" \")\n",
        "            f.write(\"\\n\")\n",
        "\n",
        "\n",
        "gerar_escala_cinza(imagem_array)\n",
        "gerar_media_rgb(imagem_array)\n"
      ],
      "metadata": {
        "id": "pBr5QQYo0Xo2"
      },
      "execution_count": 1,
      "outputs": []
    }
  ]
}