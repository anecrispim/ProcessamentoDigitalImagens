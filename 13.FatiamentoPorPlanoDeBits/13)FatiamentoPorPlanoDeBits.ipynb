{
  "nbformat": 4,
  "nbformat_minor": 0,
  "metadata": {
    "colab": {
      "provenance": []
    },
    "kernelspec": {
      "name": "python3",
      "display_name": "Python 3"
    },
    "language_info": {
      "name": "python"
    }
  },
  "cells": [
    {
      "cell_type": "code",
      "execution_count": 2,
      "metadata": {
        "id": "5zbKbR79Qhla"
      },
      "outputs": [],
      "source": [
        "import numpy as np\n",
        "from PIL import Image\n",
        "\n",
        "def fatiar_planos_bits(imagem_array):\n",
        "    planos = []\n",
        "    for i in range(8):\n",
        "        plano = (imagem_array >> i) & 1\n",
        "        planos.append(plano)\n",
        "    return planos\n",
        "\n",
        "def salvar_imagens_binarias(planos, nome_base):\n",
        "    for i, plano in enumerate(planos, 1):\n",
        "        imagem_binaria = (plano * 255).astype(np.uint8)\n",
        "        Image.fromarray(imagem_binaria).save(f\"{nome_base}_plano_{i}_binario.png\")\n",
        "\n",
        "def salvar_imagens_ponderadas(planos, nome_base):\n",
        "    for i, plano in enumerate(planos, 1):\n",
        "        peso = 2 ** (i - 1)\n",
        "        imagem_ponderada = (plano * peso).astype(np.uint8)\n",
        "        Image.fromarray(imagem_ponderada).save(f\"{nome_base}_plano_{i}_ponderado.png\")\n",
        "\n",
        "def reconstruir_3_bits_most_significativos(planos):\n",
        "    imagem_reconstruida = (planos[5] * 32 + planos[6] * 64 + planos[7] * 128).astype(np.uint8)\n",
        "    return imagem_reconstruida\n",
        "\n",
        "def processar_imagem(caminho_imagem):\n",
        "    imagem = Image.open(caminho_imagem).convert(\"L\")\n",
        "    imagem_array = np.array(imagem)\n",
        "\n",
        "    planos = fatiar_planos_bits(imagem_array)\n",
        "\n",
        "    salvar_imagens_binarias(planos, \"saida\")\n",
        "\n",
        "    salvar_imagens_ponderadas(planos, \"saida\")\n",
        "\n",
        "    imagem_reconstruida = reconstruir_3_bits_most_significativos(planos)\n",
        "    Image.fromarray(imagem_reconstruida).save(\"saida_reconstruida_3_bits.png\")\n",
        "\n",
        "processar_imagem(\"Fig0314(a)(100-dollars).tif\")\n"
      ]
    }
  ]
}