{
  "nbformat": 4,
  "nbformat_minor": 0,
  "metadata": {
    "colab": {
      "provenance": []
    },
    "kernelspec": {
      "name": "python3",
      "display_name": "Python 3"
    },
    "language_info": {
      "name": "python"
    }
  },
  "cells": [
    {
      "cell_type": "markdown",
      "source": [
        "a) Efetuar separação de cores entre os valores RGB (mínimo) na imagem Original (P3).\n",
        "\n",
        "•Imagem 1) ->Para R – Manter seus valores e zerar(0) G e B\n",
        "\n",
        "•Imagem 2) ->Para G – Manter seus valores e zerar(0) R e B\n",
        "\n",
        "•Imagem 3) ->Para B – Manter seus valores e zerar(0) R e G\n",
        "\n",
        "b) Efetuar separação de cores entre os valores RGB (máximo) na imagem Original (P3).\n",
        "\n",
        "•Imagem 4) ->Para R – Manter seus valores e alterar para máximo(255) G e B\n",
        "\n",
        "•Imagem 5) ->Para G – Manter seus valores e alterar para máximo(255)R e B\n",
        "\n",
        "•Imagem 6) ->Para B – Manter seus valores e alterar para máximo(255)R e G"
      ],
      "metadata": {
        "id": "AxSHc_ke30Vo"
      }
    },
    {
      "cell_type": "code",
      "source": [
        "import numpy as np\n",
        "from PIL import Image\n",
        "\n",
        "imagem = Image.open(\"Fig4.ppm\")\n",
        "imagem_array = np.array(imagem)\n",
        "\n",
        "# Função responsável por gerar imagem com separação mínima de cor (0 nos canais não selecionados)\n",
        "def separar_minimo(imagem_array, canal):\n",
        "    imagem_separada = imagem_array.copy()\n",
        "    if canal == 'R':\n",
        "        imagem_separada[:, :, 1] = 0  # G = 0\n",
        "        imagem_separada[:, :, 2] = 0  # B = 0\n",
        "    elif canal == 'G':\n",
        "        imagem_separada[:, :, 0] = 0  # R = 0\n",
        "        imagem_separada[:, :, 2] = 0  # B = 0\n",
        "    elif canal == 'B':\n",
        "        imagem_separada[:, :, 0] = 0  # R = 0\n",
        "        imagem_separada[:, :, 1] = 0  # G = 0\n",
        "    return imagem_separada\n",
        "\n",
        "# Função responsável por gerar imagem com separação máxima de cor (255 nos canais não selecionados)\n",
        "def separar_maximo(imagem_array, canal):\n",
        "    imagem_separada = imagem_array.copy()\n",
        "    if canal == 'R':\n",
        "        imagem_separada[:, :, 1] = 255  # G = 255\n",
        "        imagem_separada[:, :, 2] = 255  # B = 255\n",
        "    elif canal == 'G':\n",
        "        imagem_separada[:, :, 0] = 255  # R = 255\n",
        "        imagem_separada[:, :, 2] = 255  # B = 255\n",
        "    elif canal == 'B':\n",
        "        imagem_separada[:, :, 0] = 255  # R = 255\n",
        "        imagem_separada[:, :, 1] = 255  # G = 255\n",
        "    return imagem_separada\n",
        "\n",
        "# Função responsável por salvar cada imagem resultante\n",
        "def salvar_imagem(imagem_array, nome_arquivo):\n",
        "    imagem = Image.fromarray(imagem_array)\n",
        "    imagem.save(nome_arquivo)\n",
        "\n",
        "# Gerar e salvar imagens com valores mínimos nos canais não selecionados\n",
        "salvar_imagem(separar_minimo(imagem_array, 'R'), \"Saida_R_minimo.ppm\")\n",
        "salvar_imagem(separar_minimo(imagem_array, 'G'), \"Saida_G_minimo.ppm\")\n",
        "salvar_imagem(separar_minimo(imagem_array, 'B'), \"Saida_B_minimo.ppm\")\n",
        "\n",
        "# Gerar e salvar imagens com valores máximos nos canais não selecionados\n",
        "salvar_imagem(separar_maximo(imagem_array, 'R'), \"Saida_R_maximo.ppm\")\n",
        "salvar_imagem(separar_maximo(imagem_array, 'G'), \"Saida_G_maximo.ppm\")\n",
        "salvar_imagem(separar_maximo(imagem_array, 'B'), \"Saida_B_maximo.ppm\")\n"
      ],
      "metadata": {
        "id": "fHfFlA9g36C5"
      },
      "execution_count": 2,
      "outputs": []
    }
  ]
}